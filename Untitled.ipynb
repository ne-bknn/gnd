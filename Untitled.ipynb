{
 "cells": [
  {
   "cell_type": "code",
   "execution_count": 1,
   "metadata": {},
   "outputs": [
    {
     "name": "stdout",
     "output_type": "stream",
     "text": [
      "Setting permissions of DOT_SAGE directory so only you can read and write it.\n"
     ]
    }
   ],
   "source": [
    "import sympy\n",
    "from sympy import init_printing\n",
    "\n",
    "init_printing()"
   ]
  },
  {
   "cell_type": "code",
   "execution_count": 7,
   "metadata": {},
   "outputs": [],
   "source": [
    "possible_amounts = [3, 4, 6, 8, 12]\n",
    "\n",
    "def generate_matrix_fourier(N: int):\n",
    "    frac = sympy.Rational(2, N)\n",
    "    matrix = []\n",
    "    for i in range(N):\n",
    "        matrix.append([])\n",
    "        for j in range(N):\n",
    "            matrix[i].append(sympy.simplify(sympy.cos(frac*sympy.pi*i*j) - 1j*sympy.sin(frac*sympy.pi*i*j)))\n",
    "    \n",
    "    return sympy.Matrix(matrix)"
   ]
  },
  {
   "cell_type": "code",
   "execution_count": 3,
   "metadata": {},
   "outputs": [
    {
     "data": {
      "text/latex": [
       "$\\displaystyle \\left[\\begin{array}{cccccccccccc}1 & 1 & 1 & 1 & 1 & 1 & 1 & 1 & 1 & 1 & 1 & 1\\\\1 & \\frac{\\sqrt{3}}{2} - 0.5 i & 0.5 - 0.5 \\sqrt{3} i & - 1.0 i & -0.5 - 0.5 \\sqrt{3} i & - 0.5 \\sqrt{3} - 0.5 i & -1 & - \\frac{\\sqrt{3}}{2} + \\frac{i}{2} & - \\frac{1}{2} + \\frac{\\sqrt{3} i}{2} & 1.0 i & \\frac{1}{2} + \\frac{\\sqrt{3} i}{2} & \\frac{\\sqrt{3}}{2} + \\frac{i}{2}\\\\1 & 0.5 - 0.5 \\sqrt{3} i & -0.5 - 0.5 \\sqrt{3} i & -1 & - \\frac{1}{2} + \\frac{\\sqrt{3} i}{2} & \\frac{1}{2} + \\frac{\\sqrt{3} i}{2} & 1 & 0.5 - 0.5 \\sqrt{3} i & -0.5 - 0.5 \\sqrt{3} i & -1 & - \\frac{1}{2} + \\frac{\\sqrt{3} i}{2} & \\frac{1}{2} + \\frac{\\sqrt{3} i}{2}\\\\1 & - 1.0 i & -1 & 1.0 i & 1 & - 1.0 i & -1 & 1.0 i & 1 & - 1.0 i & -1 & 1.0 i\\\\1 & -0.5 - 0.5 \\sqrt{3} i & - \\frac{1}{2} + \\frac{\\sqrt{3} i}{2} & 1 & -0.5 - 0.5 \\sqrt{3} i & - \\frac{1}{2} + \\frac{\\sqrt{3} i}{2} & 1 & -0.5 - 0.5 \\sqrt{3} i & - \\frac{1}{2} + \\frac{\\sqrt{3} i}{2} & 1 & -0.5 - 0.5 \\sqrt{3} i & - \\frac{1}{2} + \\frac{\\sqrt{3} i}{2}\\\\1 & - 0.5 \\sqrt{3} - 0.5 i & \\frac{1}{2} + \\frac{\\sqrt{3} i}{2} & - 1.0 i & - \\frac{1}{2} + \\frac{\\sqrt{3} i}{2} & \\frac{\\sqrt{3}}{2} - 0.5 i & -1 & \\frac{\\sqrt{3}}{2} + \\frac{i}{2} & -0.5 - 0.5 \\sqrt{3} i & 1.0 i & 0.5 - 0.5 \\sqrt{3} i & - \\frac{\\sqrt{3}}{2} + \\frac{i}{2}\\\\1 & -1 & 1 & -1 & 1 & -1 & 1 & -1 & 1 & -1 & 1 & -1\\\\1 & - \\frac{\\sqrt{3}}{2} + \\frac{i}{2} & 0.5 - 0.5 \\sqrt{3} i & 1.0 i & -0.5 - 0.5 \\sqrt{3} i & \\frac{\\sqrt{3}}{2} + \\frac{i}{2} & -1 & \\frac{\\sqrt{3}}{2} - 0.5 i & - \\frac{1}{2} + \\frac{\\sqrt{3} i}{2} & - 1.0 i & \\frac{1}{2} + \\frac{\\sqrt{3} i}{2} & - 0.5 \\sqrt{3} - 0.5 i\\\\1 & - \\frac{1}{2} + \\frac{\\sqrt{3} i}{2} & -0.5 - 0.5 \\sqrt{3} i & 1 & - \\frac{1}{2} + \\frac{\\sqrt{3} i}{2} & -0.5 - 0.5 \\sqrt{3} i & 1 & - \\frac{1}{2} + \\frac{\\sqrt{3} i}{2} & -0.5 - 0.5 \\sqrt{3} i & 1 & - \\frac{1}{2} + \\frac{\\sqrt{3} i}{2} & -0.5 - 0.5 \\sqrt{3} i\\\\1 & 1.0 i & -1 & - 1.0 i & 1 & 1.0 i & -1 & - 1.0 i & 1 & 1.0 i & -1 & - 1.0 i\\\\1 & \\frac{1}{2} + \\frac{\\sqrt{3} i}{2} & - \\frac{1}{2} + \\frac{\\sqrt{3} i}{2} & -1 & -0.5 - 0.5 \\sqrt{3} i & 0.5 - 0.5 \\sqrt{3} i & 1 & \\frac{1}{2} + \\frac{\\sqrt{3} i}{2} & - \\frac{1}{2} + \\frac{\\sqrt{3} i}{2} & -1 & -0.5 - 0.5 \\sqrt{3} i & 0.5 - 0.5 \\sqrt{3} i\\\\1 & \\frac{\\sqrt{3}}{2} + \\frac{i}{2} & \\frac{1}{2} + \\frac{\\sqrt{3} i}{2} & 1.0 i & - \\frac{1}{2} + \\frac{\\sqrt{3} i}{2} & - \\frac{\\sqrt{3}}{2} + \\frac{i}{2} & -1 & - 0.5 \\sqrt{3} - 0.5 i & -0.5 - 0.5 \\sqrt{3} i & - 1.0 i & 0.5 - 0.5 \\sqrt{3} i & \\frac{\\sqrt{3}}{2} - 0.5 i\\end{array}\\right]$"
      ],
      "text/plain": [
       "⎡1         1                1           1            1                1       \n",
       "⎢                                                                             \n",
       "⎢     √3                                                                      \n",
       "⎢1    ── - 0.5⋅ⅈ     0.5 - 0.5⋅√3⋅ⅈ   -1.0⋅ⅈ  -0.5 - 0.5⋅√3⋅ⅈ  -0.5⋅√3 - 0.5⋅ⅈ\n",
       "⎢     2                                                                       \n",
       "⎢                                                                             \n",
       "⎢                                                 1   √3⋅ⅈ        1   √3⋅ⅈ    \n",
       "⎢1  0.5 - 0.5⋅√3⋅ⅈ   -0.5 - 0.5⋅√3⋅ⅈ    -1      - ─ + ────        ─ + ────    \n",
       "⎢                                                 2    2          2    2      \n",
       "⎢                                                                             \n",
       "⎢1      -1.0⋅ⅈ             -1         1.0⋅ⅈ          1             -1.0⋅ⅈ     \n",
       "⎢                                                                             \n",
       "⎢                        1   √3⋅ⅈ                                  1   √3⋅ⅈ   \n",
       "⎢1  -0.5 - 0.5⋅√3⋅ⅈ    - ─ + ────       1     -0.5 - 0.5⋅√3⋅ⅈ    - ─ + ────   \n",
       "⎢                        2    2                                    2    2     \n",
       "⎢                                                                             \n",
       "⎢                       1   √3⋅ⅈ                  1   √3⋅ⅈ       √3           \n",
       "⎢1  -0.5⋅√3 - 0.5⋅ⅈ     ─ + ────      -1.0⋅ⅈ    - ─ + ────       ── - 0.5⋅ⅈ   \n",
       "⎢                       2    2                    2    2         2            \n",
       "⎢                                                                             \n",
       "⎢1        -1                1           -1           1               -1       \n",
       "⎢                                                                             \n",
       "⎢        √3   ⅈ                                                    √3   ⅈ     \n",
       "⎢1     - ── + ─      0.5 - 0.5⋅√3⋅ⅈ   1.0⋅ⅈ   -0.5 - 0.5⋅√3⋅ⅈ      ── + ─     \n",
       "⎢        2    2                                                    2    2     \n",
       "⎢                                                                             \n",
       "⎢       1   √3⋅ⅈ                                  1   √3⋅ⅈ                    \n",
       "⎢1    - ─ + ────     -0.5 - 0.5⋅√3⋅ⅈ    1       - ─ + ────     -0.5 - 0.5⋅√3⋅ⅈ\n",
       "⎢       2    2                                    2    2                      \n",
       "⎢                                                                             \n",
       "⎢1       1.0⋅ⅈ             -1         -1.0⋅ⅈ         1              1.0⋅ⅈ     \n",
       "⎢                                                                             \n",
       "⎢      1   √3⋅ⅈ          1   √3⋅ⅈ                                             \n",
       "⎢1     ─ + ────        - ─ + ────       -1    -0.5 - 0.5⋅√3⋅ⅈ  0.5 - 0.5⋅√3⋅ⅈ \n",
       "⎢      2    2            2    2                                               \n",
       "⎢                                                                             \n",
       "⎢       √3   ⅈ          1   √3⋅ⅈ                  1   √3⋅ⅈ          √3   ⅈ    \n",
       "⎢1      ── + ─          ─ + ────      1.0⋅ⅈ     - ─ + ────        - ── + ─    \n",
       "⎣       2    2          2    2                    2    2            2    2    \n",
       "\n",
       "  1          1                1           1            1                1     \n",
       "                                                                              \n",
       "           √3   ⅈ          1   √3⋅ⅈ                1   √3⋅ⅈ          √3   ⅈ   \n",
       "  -1     - ── + ─        - ─ + ────     1.0⋅ⅈ      ─ + ────          ── + ─   \n",
       "           2    2          2    2                  2    2            2    2   \n",
       "                                                                              \n",
       "                                                    1   √3⋅ⅈ        1   √3⋅ⅈ  \n",
       "  1   0.5 - 0.5⋅√3⋅ⅈ   -0.5 - 0.5⋅√3⋅ⅈ    -1      - ─ + ────        ─ + ────  \n",
       "                                                    2    2          2    2    \n",
       "                                                                              \n",
       "  -1       1.0⋅ⅈ              1         -1.0⋅ⅈ        -1              1.0⋅ⅈ   \n",
       "                                                                              \n",
       "                           1   √3⋅ⅈ                                  1   √3⋅ⅈ \n",
       "  1   -0.5 - 0.5⋅√3⋅ⅈ    - ─ + ────       1     -0.5 - 0.5⋅√3⋅ⅈ    - ─ + ──── \n",
       "                           2    2                                    2    2   \n",
       "                                                                              \n",
       "          √3   ⅈ                                                      √3   ⅈ  \n",
       "  -1      ── + ─       -0.5 - 0.5⋅√3⋅ⅈ  1.0⋅ⅈ   0.5 - 0.5⋅√3⋅ⅈ      - ── + ─  \n",
       "          2    2                                                      2    2  \n",
       "                                                                              \n",
       "  1         -1                1           -1           1               -1     \n",
       "                                                                              \n",
       "        √3                 1   √3⋅ⅈ                1   √3⋅ⅈ                   \n",
       "  -1    ── - 0.5⋅ⅈ       - ─ + ────     -1.0⋅ⅈ     ─ + ────      -0.5⋅√3 - 0.5\n",
       "        2                  2    2                  2    2                     \n",
       "                                                                              \n",
       "          1   √3⋅ⅈ                                  1   √3⋅ⅈ                  \n",
       "  1     - ─ + ────     -0.5 - 0.5⋅√3⋅ⅈ    1       - ─ + ────     -0.5 - 0.5⋅√3\n",
       "          2    2                                    2    2                    \n",
       "                                                                              \n",
       "  -1      -1.0⋅ⅈ              1         1.0⋅ⅈ         -1             -1.0⋅ⅈ   \n",
       "                                                                              \n",
       "         1   √3⋅ⅈ          1   √3⋅ⅈ                                           \n",
       "  1      ─ + ────        - ─ + ────       -1    -0.5 - 0.5⋅√3⋅ⅈ  0.5 - 0.5⋅√3⋅\n",
       "         2    2            2    2                                             \n",
       "                                                                              \n",
       "                                                                   √3         \n",
       "  -1  -0.5⋅√3 - 0.5⋅ⅈ  -0.5 - 0.5⋅√3⋅ⅈ  -1.0⋅ⅈ  0.5 - 0.5⋅√3⋅ⅈ     ── - 0.5⋅ⅈ \n",
       "                                                                   2          \n",
       "\n",
       "  ⎤\n",
       "  ⎥\n",
       "  ⎥\n",
       "  ⎥\n",
       "  ⎥\n",
       "  ⎥\n",
       "  ⎥\n",
       "  ⎥\n",
       "  ⎥\n",
       "  ⎥\n",
       "  ⎥\n",
       "  ⎥\n",
       "  ⎥\n",
       "  ⎥\n",
       "  ⎥\n",
       "  ⎥\n",
       "  ⎥\n",
       "  ⎥\n",
       "  ⎥\n",
       "  ⎥\n",
       "  ⎥\n",
       "  ⎥\n",
       "  ⎥\n",
       "⋅ⅈ⎥\n",
       "  ⎥\n",
       "  ⎥\n",
       "  ⎥\n",
       "⋅ⅈ⎥\n",
       "  ⎥\n",
       "  ⎥\n",
       "  ⎥\n",
       "  ⎥\n",
       "  ⎥\n",
       "ⅈ ⎥\n",
       "  ⎥\n",
       "  ⎥\n",
       "  ⎥\n",
       "  ⎥\n",
       "  ⎦"
      ]
     },
     "execution_count": 3,
     "metadata": {},
     "output_type": "execute_result"
    }
   ],
   "source": [
    "generate_matrix(12)"
   ]
  },
  {
   "cell_type": "code",
   "execution_count": 4,
   "metadata": {},
   "outputs": [],
   "source": [
    "a = sympy.Matrix([1, 2, 6, 3])"
   ]
  },
  {
   "cell_type": "code",
   "execution_count": 5,
   "metadata": {},
   "outputs": [],
   "source": [
    "M = generate_matrix(4)"
   ]
  },
  {
   "cell_type": "code",
   "execution_count": 6,
   "metadata": {},
   "outputs": [
    {
     "data": {
      "text/plain": [
       "'\\\\left[\\\\begin{matrix}1 & 1 & 1 & 1\\\\\\\\1 & - 1.0 i & -1 & 1.0 i\\\\\\\\1 & -1 & 1 & -1\\\\\\\\1 & 1.0 i & -1 & - 1.0 i\\\\end{matrix}\\\\right]'"
      ]
     },
     "execution_count": 6,
     "metadata": {},
     "output_type": "execute_result"
    }
   ],
   "source": [
    "sympy.latex(M)"
   ]
  },
  {
   "cell_type": "code",
   "execution_count": 7,
   "metadata": {},
   "outputs": [],
   "source": [
    "n = 6\n",
    "matrix = sympy.Matrix(n, n, lambda i, j: sympy.exp(-2 * sympy.pi * sympy.I * i * j / n))"
   ]
  },
  {
   "cell_type": "code",
   "execution_count": 8,
   "metadata": {},
   "outputs": [
    {
     "data": {
      "text/plain": [
       "'\\\\left[\\\\begin{matrix}12\\\\\\\\-5 + 1.0 i\\\\\\\\2\\\\\\\\-5 - 1.0 i\\\\end{matrix}\\\\right]'"
      ]
     },
     "execution_count": 8,
     "metadata": {},
     "output_type": "execute_result"
    }
   ],
   "source": [
    "sympy.latex(M*a)"
   ]
  },
  {
   "cell_type": "code",
   "execution_count": 9,
   "metadata": {},
   "outputs": [],
   "source": [
    "possible_amounts = [3, 4, 6, 8, 12]\n",
    "\n",
    "def generate_matrix_hartley(N: int):\n",
    "    frac = sympy.Rational(2, N)\n",
    "    matrix = []\n",
    "    for i in range(N):\n",
    "        matrix.append([])\n",
    "        for j in range(N):\n",
    "            matrix[i].append(sympy.simplify(sympy.cos(frac*sympy.pi*i*j) + sympy.sin(frac*sympy.pi*i*j)))\n",
    "    \n",
    "    return sympy.Matrix(matrix)"
   ]
  },
  {
   "cell_type": "code",
   "execution_count": 13,
   "metadata": {},
   "outputs": [
    {
     "data": {
      "text/latex": [
       "$\\displaystyle \\left[\\begin{matrix}1 & 1 & 1 & 1 & 1 & 1\\\\1 & \\frac{1}{2} + \\frac{\\sqrt{3}}{2} & - \\frac{1}{2} + \\frac{\\sqrt{3}}{2} & -1 & - \\frac{\\sqrt{3}}{2} - \\frac{1}{2} & \\frac{1}{2} - \\frac{\\sqrt{3}}{2}\\\\1 & - \\frac{1}{2} + \\frac{\\sqrt{3}}{2} & - \\frac{\\sqrt{3}}{2} - \\frac{1}{2} & 1 & - \\frac{1}{2} + \\frac{\\sqrt{3}}{2} & - \\frac{\\sqrt{3}}{2} - \\frac{1}{2}\\\\1 & -1 & 1 & -1 & 1 & -1\\\\1 & - \\frac{\\sqrt{3}}{2} - \\frac{1}{2} & - \\frac{1}{2} + \\frac{\\sqrt{3}}{2} & 1 & - \\frac{\\sqrt{3}}{2} - \\frac{1}{2} & - \\frac{1}{2} + \\frac{\\sqrt{3}}{2}\\\\1 & \\frac{1}{2} - \\frac{\\sqrt{3}}{2} & - \\frac{\\sqrt{3}}{2} - \\frac{1}{2} & -1 & - \\frac{1}{2} + \\frac{\\sqrt{3}}{2} & \\frac{1}{2} + \\frac{\\sqrt{3}}{2}\\end{matrix}\\right]$"
      ],
      "text/plain": [
       "⎡1     1         1      1      1         1    ⎤\n",
       "⎢                                             ⎥\n",
       "⎢    1   √3     1   √3        √3   1   1   √3 ⎥\n",
       "⎢1   ─ + ──   - ─ + ──  -1  - ── - ─   ─ - ── ⎥\n",
       "⎢    2   2      2   2         2    2   2   2  ⎥\n",
       "⎢                                             ⎥\n",
       "⎢     1   √3    √3   1        1   √3    √3   1⎥\n",
       "⎢1  - ─ + ──  - ── - ─  1   - ─ + ──  - ── - ─⎥\n",
       "⎢     2   2     2    2        2   2     2    2⎥\n",
       "⎢                                             ⎥\n",
       "⎢1     -1        1      -1     1         -1   ⎥\n",
       "⎢                                             ⎥\n",
       "⎢     √3   1    1   √3        √3   1    1   √3⎥\n",
       "⎢1  - ── - ─  - ─ + ──  1   - ── - ─  - ─ + ──⎥\n",
       "⎢     2    2    2   2         2    2    2   2 ⎥\n",
       "⎢                                             ⎥\n",
       "⎢    1   √3     √3   1        1   √3   1   √3 ⎥\n",
       "⎢1   ─ - ──   - ── - ─  -1  - ─ + ──   ─ + ── ⎥\n",
       "⎣    2   2      2    2        2   2    2   2  ⎦"
      ]
     },
     "execution_count": 13,
     "metadata": {},
     "output_type": "execute_result"
    }
   ],
   "source": [
    "generate_matrix_hartley(6)"
   ]
  },
  {
   "cell_type": "code",
   "execution_count": 14,
   "metadata": {},
   "outputs": [],
   "source": [
    "a1 = sympy.Matrix([1,2,3])\n",
    "a2 = sympy.Matrix([[1,2,3],[3,5,8],[1,2,4]])"
   ]
  },
  {
   "cell_type": "code",
   "execution_count": 15,
   "metadata": {},
   "outputs": [
    {
     "data": {
      "text/latex": [
       "$\\displaystyle \\left[\\begin{matrix}14\\\\37\\\\17\\end{matrix}\\right]$"
      ],
      "text/plain": [
       "⎡14⎤\n",
       "⎢  ⎥\n",
       "⎢37⎥\n",
       "⎢  ⎥\n",
       "⎣17⎦"
      ]
     },
     "execution_count": 15,
     "metadata": {},
     "output_type": "execute_result"
    }
   ],
   "source": [
    "a2*a1"
   ]
  },
  {
   "cell_type": "code",
   "execution_count": 103,
   "metadata": {},
   "outputs": [
    {
     "data": {
      "text/latex": [
       "$\\displaystyle \\left[\\begin{matrix}1\\\\2\\\\3\\end{matrix}\\right]$"
      ],
      "text/plain": [
       "⎡1⎤\n",
       "⎢ ⎥\n",
       "⎢2⎥\n",
       "⎢ ⎥\n",
       "⎣3⎦"
      ]
     },
     "execution_count": 103,
     "metadata": {},
     "output_type": "execute_result"
    }
   ],
   "source": [
    "a1"
   ]
  },
  {
   "cell_type": "code",
   "execution_count": 104,
   "metadata": {},
   "outputs": [
    {
     "data": {
      "text/latex": [
       "$\\displaystyle \\left[\\begin{matrix}1 & 2 & 3\\\\3 & 5 & 8\\\\1 & 2 & 4\\end{matrix}\\right]$"
      ],
      "text/plain": [
       "⎡1  2  3⎤\n",
       "⎢       ⎥\n",
       "⎢3  5  8⎥\n",
       "⎢       ⎥\n",
       "⎣1  2  4⎦"
      ]
     },
     "execution_count": 104,
     "metadata": {},
     "output_type": "execute_result"
    }
   ],
   "source": [
    "a2"
   ]
  },
  {
   "cell_type": "code",
   "execution_count": 107,
   "metadata": {},
   "outputs": [],
   "source": [
    "a3 = sympy.Matrix([[1], [2], [3]])"
   ]
  },
  {
   "cell_type": "code",
   "execution_count": 108,
   "metadata": {},
   "outputs": [
    {
     "ename": "ShapeError",
     "evalue": "Matrix size mismatch: (3, 1) * (3, 3).",
     "output_type": "error",
     "traceback": [
      "\u001b[0;31m---------------------------------------------------------------------------\u001b[0m",
      "\u001b[0;31mShapeError\u001b[0m                                Traceback (most recent call last)",
      "Cell \u001b[0;32mIn [108], line 1\u001b[0m\n\u001b[0;32m----> 1\u001b[0m a3\u001b[38;5;241m*\u001b[39ma2\n",
      "File \u001b[0;32m/usr/lib/python3.10/site-packages/sympy/core/decorators.py:106\u001b[0m, in \u001b[0;36mcall_highest_priority.<locals>.priority_decorator.<locals>.binary_op_wrapper\u001b[0;34m(self, other)\u001b[0m\n\u001b[1;32m    104\u001b[0m         \u001b[38;5;28;01mif\u001b[39;00m f \u001b[38;5;129;01mis\u001b[39;00m \u001b[38;5;129;01mnot\u001b[39;00m \u001b[38;5;28;01mNone\u001b[39;00m:\n\u001b[1;32m    105\u001b[0m             \u001b[38;5;28;01mreturn\u001b[39;00m f(\u001b[38;5;28mself\u001b[39m)\n\u001b[0;32m--> 106\u001b[0m \u001b[38;5;28;01mreturn\u001b[39;00m \u001b[43mfunc\u001b[49m\u001b[43m(\u001b[49m\u001b[38;5;28;43mself\u001b[39;49m\u001b[43m,\u001b[49m\u001b[43m \u001b[49m\u001b[43mother\u001b[49m\u001b[43m)\u001b[49m\n",
      "File \u001b[0;32m/usr/lib/python3.10/site-packages/sympy/matrices/common.py:2771\u001b[0m, in \u001b[0;36mMatrixArithmetic.__mul__\u001b[0;34m(self, other)\u001b[0m\n\u001b[1;32m   2742\u001b[0m \u001b[38;5;129m@call_highest_priority\u001b[39m(\u001b[38;5;124m'\u001b[39m\u001b[38;5;124m__rmul__\u001b[39m\u001b[38;5;124m'\u001b[39m)\n\u001b[1;32m   2743\u001b[0m \u001b[38;5;28;01mdef\u001b[39;00m \u001b[38;5;21m__mul__\u001b[39m(\u001b[38;5;28mself\u001b[39m, other):\n\u001b[1;32m   2744\u001b[0m     \u001b[38;5;124;03m\"\"\"Return self*other where other is either a scalar or a matrix\u001b[39;00m\n\u001b[1;32m   2745\u001b[0m \u001b[38;5;124;03m    of compatible dimensions.\u001b[39;00m\n\u001b[1;32m   2746\u001b[0m \n\u001b[0;32m   (...)\u001b[0m\n\u001b[1;32m   2768\u001b[0m \u001b[38;5;124;03m    matrix_multiply_elementwise\u001b[39;00m\n\u001b[1;32m   2769\u001b[0m \u001b[38;5;124;03m    \"\"\"\u001b[39;00m\n\u001b[0;32m-> 2771\u001b[0m     \u001b[38;5;28;01mreturn\u001b[39;00m \u001b[38;5;28;43mself\u001b[39;49m\u001b[38;5;241;43m.\u001b[39;49m\u001b[43mmultiply\u001b[49m\u001b[43m(\u001b[49m\u001b[43mother\u001b[49m\u001b[43m)\u001b[49m\n",
      "File \u001b[0;32m/usr/lib/python3.10/site-packages/sympy/matrices/common.py:2793\u001b[0m, in \u001b[0;36mMatrixArithmetic.multiply\u001b[0;34m(self, other, dotprodsimp)\u001b[0m\n\u001b[1;32m   2789\u001b[0m \u001b[38;5;28;01mif\u001b[39;00m (\u001b[38;5;28mhasattr\u001b[39m(other, \u001b[38;5;124m'\u001b[39m\u001b[38;5;124mshape\u001b[39m\u001b[38;5;124m'\u001b[39m) \u001b[38;5;129;01mand\u001b[39;00m \u001b[38;5;28mlen\u001b[39m(other\u001b[38;5;241m.\u001b[39mshape) \u001b[38;5;241m==\u001b[39m \u001b[38;5;241m2\u001b[39m \u001b[38;5;129;01mand\u001b[39;00m\n\u001b[1;32m   2790\u001b[0m     (\u001b[38;5;28mgetattr\u001b[39m(other, \u001b[38;5;124m'\u001b[39m\u001b[38;5;124mis_Matrix\u001b[39m\u001b[38;5;124m'\u001b[39m, \u001b[38;5;28;01mTrue\u001b[39;00m) \u001b[38;5;129;01mor\u001b[39;00m\n\u001b[1;32m   2791\u001b[0m      \u001b[38;5;28mgetattr\u001b[39m(other, \u001b[38;5;124m'\u001b[39m\u001b[38;5;124mis_MatrixLike\u001b[39m\u001b[38;5;124m'\u001b[39m, \u001b[38;5;28;01mTrue\u001b[39;00m))):\n\u001b[1;32m   2792\u001b[0m     \u001b[38;5;28;01mif\u001b[39;00m \u001b[38;5;28mself\u001b[39m\u001b[38;5;241m.\u001b[39mshape[\u001b[38;5;241m1\u001b[39m] \u001b[38;5;241m!=\u001b[39m other\u001b[38;5;241m.\u001b[39mshape[\u001b[38;5;241m0\u001b[39m]:\n\u001b[0;32m-> 2793\u001b[0m         \u001b[38;5;28;01mraise\u001b[39;00m ShapeError(\u001b[38;5;124m\"\u001b[39m\u001b[38;5;124mMatrix size mismatch: \u001b[39m\u001b[38;5;132;01m%s\u001b[39;00m\u001b[38;5;124m * \u001b[39m\u001b[38;5;132;01m%s\u001b[39;00m\u001b[38;5;124m.\u001b[39m\u001b[38;5;124m\"\u001b[39m \u001b[38;5;241m%\u001b[39m (\n\u001b[1;32m   2794\u001b[0m             \u001b[38;5;28mself\u001b[39m\u001b[38;5;241m.\u001b[39mshape, other\u001b[38;5;241m.\u001b[39mshape))\n\u001b[1;32m   2796\u001b[0m \u001b[38;5;66;03m# honest SymPy matrices defer to their class's routine\u001b[39;00m\n\u001b[1;32m   2797\u001b[0m \u001b[38;5;28;01mif\u001b[39;00m \u001b[38;5;28mgetattr\u001b[39m(other, \u001b[38;5;124m'\u001b[39m\u001b[38;5;124mis_Matrix\u001b[39m\u001b[38;5;124m'\u001b[39m, \u001b[38;5;28;01mFalse\u001b[39;00m):\n",
      "\u001b[0;31mShapeError\u001b[0m: Matrix size mismatch: (3, 1) * (3, 3)."
     ]
    }
   ],
   "source": [
    "a3*a2"
   ]
  },
  {
   "cell_type": "code",
   "execution_count": 109,
   "metadata": {},
   "outputs": [
    {
     "ename": "ShapeError",
     "evalue": "Matrix size mismatch: (3, 1) * (3, 3).",
     "output_type": "error",
     "traceback": [
      "\u001b[0;31m---------------------------------------------------------------------------\u001b[0m",
      "\u001b[0;31mShapeError\u001b[0m                                Traceback (most recent call last)",
      "Cell \u001b[0;32mIn [109], line 1\u001b[0m\n\u001b[0;32m----> 1\u001b[0m a1\u001b[38;5;241m*\u001b[39ma2\n",
      "File \u001b[0;32m/usr/lib/python3.10/site-packages/sympy/core/decorators.py:106\u001b[0m, in \u001b[0;36mcall_highest_priority.<locals>.priority_decorator.<locals>.binary_op_wrapper\u001b[0;34m(self, other)\u001b[0m\n\u001b[1;32m    104\u001b[0m         \u001b[38;5;28;01mif\u001b[39;00m f \u001b[38;5;129;01mis\u001b[39;00m \u001b[38;5;129;01mnot\u001b[39;00m \u001b[38;5;28;01mNone\u001b[39;00m:\n\u001b[1;32m    105\u001b[0m             \u001b[38;5;28;01mreturn\u001b[39;00m f(\u001b[38;5;28mself\u001b[39m)\n\u001b[0;32m--> 106\u001b[0m \u001b[38;5;28;01mreturn\u001b[39;00m \u001b[43mfunc\u001b[49m\u001b[43m(\u001b[49m\u001b[38;5;28;43mself\u001b[39;49m\u001b[43m,\u001b[49m\u001b[43m \u001b[49m\u001b[43mother\u001b[49m\u001b[43m)\u001b[49m\n",
      "File \u001b[0;32m/usr/lib/python3.10/site-packages/sympy/matrices/common.py:2771\u001b[0m, in \u001b[0;36mMatrixArithmetic.__mul__\u001b[0;34m(self, other)\u001b[0m\n\u001b[1;32m   2742\u001b[0m \u001b[38;5;129m@call_highest_priority\u001b[39m(\u001b[38;5;124m'\u001b[39m\u001b[38;5;124m__rmul__\u001b[39m\u001b[38;5;124m'\u001b[39m)\n\u001b[1;32m   2743\u001b[0m \u001b[38;5;28;01mdef\u001b[39;00m \u001b[38;5;21m__mul__\u001b[39m(\u001b[38;5;28mself\u001b[39m, other):\n\u001b[1;32m   2744\u001b[0m     \u001b[38;5;124;03m\"\"\"Return self*other where other is either a scalar or a matrix\u001b[39;00m\n\u001b[1;32m   2745\u001b[0m \u001b[38;5;124;03m    of compatible dimensions.\u001b[39;00m\n\u001b[1;32m   2746\u001b[0m \n\u001b[0;32m   (...)\u001b[0m\n\u001b[1;32m   2768\u001b[0m \u001b[38;5;124;03m    matrix_multiply_elementwise\u001b[39;00m\n\u001b[1;32m   2769\u001b[0m \u001b[38;5;124;03m    \"\"\"\u001b[39;00m\n\u001b[0;32m-> 2771\u001b[0m     \u001b[38;5;28;01mreturn\u001b[39;00m \u001b[38;5;28;43mself\u001b[39;49m\u001b[38;5;241;43m.\u001b[39;49m\u001b[43mmultiply\u001b[49m\u001b[43m(\u001b[49m\u001b[43mother\u001b[49m\u001b[43m)\u001b[49m\n",
      "File \u001b[0;32m/usr/lib/python3.10/site-packages/sympy/matrices/common.py:2793\u001b[0m, in \u001b[0;36mMatrixArithmetic.multiply\u001b[0;34m(self, other, dotprodsimp)\u001b[0m\n\u001b[1;32m   2789\u001b[0m \u001b[38;5;28;01mif\u001b[39;00m (\u001b[38;5;28mhasattr\u001b[39m(other, \u001b[38;5;124m'\u001b[39m\u001b[38;5;124mshape\u001b[39m\u001b[38;5;124m'\u001b[39m) \u001b[38;5;129;01mand\u001b[39;00m \u001b[38;5;28mlen\u001b[39m(other\u001b[38;5;241m.\u001b[39mshape) \u001b[38;5;241m==\u001b[39m \u001b[38;5;241m2\u001b[39m \u001b[38;5;129;01mand\u001b[39;00m\n\u001b[1;32m   2790\u001b[0m     (\u001b[38;5;28mgetattr\u001b[39m(other, \u001b[38;5;124m'\u001b[39m\u001b[38;5;124mis_Matrix\u001b[39m\u001b[38;5;124m'\u001b[39m, \u001b[38;5;28;01mTrue\u001b[39;00m) \u001b[38;5;129;01mor\u001b[39;00m\n\u001b[1;32m   2791\u001b[0m      \u001b[38;5;28mgetattr\u001b[39m(other, \u001b[38;5;124m'\u001b[39m\u001b[38;5;124mis_MatrixLike\u001b[39m\u001b[38;5;124m'\u001b[39m, \u001b[38;5;28;01mTrue\u001b[39;00m))):\n\u001b[1;32m   2792\u001b[0m     \u001b[38;5;28;01mif\u001b[39;00m \u001b[38;5;28mself\u001b[39m\u001b[38;5;241m.\u001b[39mshape[\u001b[38;5;241m1\u001b[39m] \u001b[38;5;241m!=\u001b[39m other\u001b[38;5;241m.\u001b[39mshape[\u001b[38;5;241m0\u001b[39m]:\n\u001b[0;32m-> 2793\u001b[0m         \u001b[38;5;28;01mraise\u001b[39;00m ShapeError(\u001b[38;5;124m\"\u001b[39m\u001b[38;5;124mMatrix size mismatch: \u001b[39m\u001b[38;5;132;01m%s\u001b[39;00m\u001b[38;5;124m * \u001b[39m\u001b[38;5;132;01m%s\u001b[39;00m\u001b[38;5;124m.\u001b[39m\u001b[38;5;124m\"\u001b[39m \u001b[38;5;241m%\u001b[39m (\n\u001b[1;32m   2794\u001b[0m             \u001b[38;5;28mself\u001b[39m\u001b[38;5;241m.\u001b[39mshape, other\u001b[38;5;241m.\u001b[39mshape))\n\u001b[1;32m   2796\u001b[0m \u001b[38;5;66;03m# honest SymPy matrices defer to their class's routine\u001b[39;00m\n\u001b[1;32m   2797\u001b[0m \u001b[38;5;28;01mif\u001b[39;00m \u001b[38;5;28mgetattr\u001b[39m(other, \u001b[38;5;124m'\u001b[39m\u001b[38;5;124mis_Matrix\u001b[39m\u001b[38;5;124m'\u001b[39m, \u001b[38;5;28;01mFalse\u001b[39;00m):\n",
      "\u001b[0;31mShapeError\u001b[0m: Matrix size mismatch: (3, 1) * (3, 3)."
     ]
    }
   ],
   "source": [
    "a1*a2"
   ]
  },
  {
   "cell_type": "code",
   "execution_count": 110,
   "metadata": {},
   "outputs": [
    {
     "data": {
      "text/latex": [
       "$\\displaystyle \\left[\\begin{matrix}1\\\\2\\\\3\\end{matrix}\\right]$"
      ],
      "text/plain": [
       "⎡1⎤\n",
       "⎢ ⎥\n",
       "⎢2⎥\n",
       "⎢ ⎥\n",
       "⎣3⎦"
      ]
     },
     "execution_count": 110,
     "metadata": {},
     "output_type": "execute_result"
    }
   ],
   "source": [
    "a1"
   ]
  },
  {
   "cell_type": "code",
   "execution_count": 111,
   "metadata": {},
   "outputs": [
    {
     "data": {
      "text/latex": [
       "$\\displaystyle \\left[\\begin{matrix}1\\\\2\\\\3\\end{matrix}\\right]$"
      ],
      "text/plain": [
       "⎡1⎤\n",
       "⎢ ⎥\n",
       "⎢2⎥\n",
       "⎢ ⎥\n",
       "⎣3⎦"
      ]
     },
     "execution_count": 111,
     "metadata": {},
     "output_type": "execute_result"
    }
   ],
   "source": [
    "a3"
   ]
  },
  {
   "cell_type": "code",
   "execution_count": 183,
   "metadata": {},
   "outputs": [
    {
     "data": {
      "text/latex": [
       "$\\displaystyle \\left[\\begin{matrix}1 & 3 & 4\\\\2 & 0 & 1\\\\5 & 2 & 2\\\\3 & -2 & 4\\end{matrix}\\right]$"
      ],
      "text/plain": [
       "⎡1  3   4⎤\n",
       "⎢        ⎥\n",
       "⎢2  0   1⎥\n",
       "⎢        ⎥\n",
       "⎢5  2   2⎥\n",
       "⎢        ⎥\n",
       "⎣3  -2  4⎦"
      ]
     },
     "execution_count": 183,
     "metadata": {},
     "output_type": "execute_result"
    }
   ],
   "source": [
    "a2 = sympy.Matrix([[1,3,4],[2,0,1],[5,2,2],[3,-2,4]])\n",
    "a2"
   ]
  },
  {
   "cell_type": "code",
   "execution_count": 184,
   "metadata": {},
   "outputs": [
    {
     "data": {
      "text/latex": [
       "$\\displaystyle \\left[\\begin{matrix}1 & 3 & 4\\end{matrix}\\right]$"
      ],
      "text/plain": [
       "[1  3  4]"
      ]
     },
     "execution_count": 184,
     "metadata": {},
     "output_type": "execute_result"
    }
   ],
   "source": [
    "a2.row(0)"
   ]
  },
  {
   "cell_type": "code",
   "execution_count": 185,
   "metadata": {},
   "outputs": [
    {
     "data": {
      "text/latex": [
       "$\\displaystyle \\left[\\begin{matrix}1\\\\2\\\\5\\\\3\\end{matrix}\\right]$"
      ],
      "text/plain": [
       "⎡1⎤\n",
       "⎢ ⎥\n",
       "⎢2⎥\n",
       "⎢ ⎥\n",
       "⎢5⎥\n",
       "⎢ ⎥\n",
       "⎣3⎦"
      ]
     },
     "execution_count": 185,
     "metadata": {},
     "output_type": "execute_result"
    }
   ],
   "source": [
    "a2.col(0)"
   ]
  },
  {
   "cell_type": "code",
   "execution_count": 186,
   "metadata": {},
   "outputs": [
    {
     "data": {
      "image/png": "[encoded data removed]",
      "text/latex": [
       "$\\displaystyle 3$"
      ],
      "text/plain": [
       "3"
      ]
     },
     "execution_count": 186,
     "metadata": {},
     "output_type": "execute_result"
    }
   ],
   "source": [
    "len(a2.row(0))"
   ]
  },
  {
   "cell_type": "code",
   "execution_count": 16,
   "metadata": {},
   "outputs": [
    {
     "data": {
      "text/latex": [
       "$\\displaystyle \\left[\\begin{matrix}1 & 1 & 1\\\\1 & -0.5 - 0.5 \\sqrt{3} i & - \\frac{1}{2} + \\frac{\\sqrt{3} i}{2}\\\\1 & - \\frac{1}{2} + \\frac{\\sqrt{3} i}{2} & -0.5 - 0.5 \\sqrt{3} i\\end{matrix}\\right]$"
      ],
      "text/plain": [
       "⎡1         1                1       ⎤\n",
       "⎢                                   ⎥\n",
       "⎢                        1   √3⋅ⅈ   ⎥\n",
       "⎢1  -0.5 - 0.5⋅√3⋅ⅈ    - ─ + ────   ⎥\n",
       "⎢                        2    2     ⎥\n",
       "⎢                                   ⎥\n",
       "⎢       1   √3⋅ⅈ                    ⎥\n",
       "⎢1    - ─ + ────     -0.5 - 0.5⋅√3⋅ⅈ⎥\n",
       "⎣       2    2                      ⎦"
      ]
     },
     "execution_count": 16,
     "metadata": {},
     "output_type": "execute_result"
    }
   ],
   "source": [
    "matrix_for_rows = generate_matrix(len(a2.row(0)))\n",
    "matrix_for_rows"
   ]
  },
  {
   "cell_type": "code",
   "execution_count": 17,
   "metadata": {},
   "outputs": [
    {
     "data": {
      "text/latex": [
       "$\\displaystyle \\left[\\begin{matrix}6 & - \\frac{3}{2} + 0.5 \\sqrt{3} i & -1.5 - 0.5 \\sqrt{3} i\\\\16 & -3.5 + 1.5 \\sqrt{3} i & -3.5 - 1.5 \\sqrt{3} i\\\\7 & -2 + 1.0 \\sqrt{3} i & -2.0 - 1.0 \\sqrt{3} i\\end{matrix}\\right]$"
      ],
      "text/plain": [
       "⎡6   -3/2 + 0.5⋅√3⋅ⅈ  -1.5 - 0.5⋅√3⋅ⅈ⎤\n",
       "⎢                                    ⎥\n",
       "⎢16  -3.5 + 1.5⋅√3⋅ⅈ  -3.5 - 1.5⋅√3⋅ⅈ⎥\n",
       "⎢                                    ⎥\n",
       "⎣7    -2 + 1.0⋅√3⋅ⅈ   -2.0 - 1.0⋅√3⋅ⅈ⎦"
      ]
     },
     "execution_count": 17,
     "metadata": {},
     "output_type": "execute_result"
    }
   ],
   "source": [
    "new_rows = []\n",
    "for i in range(len(a2.col(0))):\n",
    "    new_row = a2.row(i)*matrix_for_rows\n",
    "    new_rows.append(new_row)\n",
    "new_rows = sympy.Matrix(new_rows)\n",
    "new_rows"
   ]
  },
  {
   "cell_type": "code",
   "execution_count": 18,
   "metadata": {},
   "outputs": [
    {
     "data": {
      "text/latex": [
       "$\\displaystyle \\left[\\begin{matrix}1 & 1 & 1\\\\1 & -0.5 - 0.5 \\sqrt{3} i & - \\frac{1}{2} + \\frac{\\sqrt{3} i}{2}\\\\1 & - \\frac{1}{2} + \\frac{\\sqrt{3} i}{2} & -0.5 - 0.5 \\sqrt{3} i\\end{matrix}\\right]$"
      ],
      "text/plain": [
       "⎡1         1                1       ⎤\n",
       "⎢                                   ⎥\n",
       "⎢                        1   √3⋅ⅈ   ⎥\n",
       "⎢1  -0.5 - 0.5⋅√3⋅ⅈ    - ─ + ────   ⎥\n",
       "⎢                        2    2     ⎥\n",
       "⎢                                   ⎥\n",
       "⎢       1   √3⋅ⅈ                    ⎥\n",
       "⎢1    - ─ + ────     -0.5 - 0.5⋅√3⋅ⅈ⎥\n",
       "⎣       2    2                      ⎦"
      ]
     },
     "execution_count": 18,
     "metadata": {},
     "output_type": "execute_result"
    }
   ],
   "source": [
    "matrix_for_cols = generate_matrix(len(a2.col(0)))\n",
    "matrix_for_cols"
   ]
  },
  {
   "cell_type": "code",
   "execution_count": 19,
   "metadata": {},
   "outputs": [
    {
     "data": {
      "text/latex": [
       "$\\displaystyle \\left[\\begin{matrix}29 & -7.0 + 3.0 \\sqrt{3} i & -7.0 - 3.0 \\sqrt{3} i\\\\-5.5 - 4.5 \\sqrt{3} i & 2.0 & 0.5 + 1.5 \\sqrt{3} i\\\\-5.5 + 4.5 \\sqrt{3} i & 0.5 - 1.5 \\sqrt{3} i & 2.0\\end{matrix}\\right]$"
      ],
      "text/plain": [
       "⎡      29         -7.0 + 3.0⋅√3⋅ⅈ  -7.0 - 3.0⋅√3⋅ⅈ⎤\n",
       "⎢                                                 ⎥\n",
       "⎢-5.5 - 4.5⋅√3⋅ⅈ        2.0        0.5 + 1.5⋅√3⋅ⅈ ⎥\n",
       "⎢                                                 ⎥\n",
       "⎣-5.5 + 4.5⋅√3⋅ⅈ  0.5 - 1.5⋅√3⋅ⅈ         2.0      ⎦"
      ]
     },
     "execution_count": 19,
     "metadata": {},
     "output_type": "execute_result"
    }
   ],
   "source": [
    "new_cols = [] #алгебраическая\n",
    "for i in range(len(a2.row(0))):\n",
    "    new_col = matrix_for_cols*new_rows.col(i)\n",
    "    new_cols.append(sympy.Matrix(new_col).transpose())\n",
    "new_cols = sympy.Matrix(new_cols).transpose()\n",
    "sympy.simplify(new_cols)"
   ]
  },
  {
   "cell_type": "code",
   "execution_count": 20,
   "metadata": {},
   "outputs": [
    {
     "data": {
      "text/latex": [
       "$\\displaystyle \\left[\\begin{matrix}29 & -7.0 + 3.0 \\sqrt{3} i & -7.0 - 3.0 \\sqrt{3} i\\\\-4.0 - 5.0 \\sqrt{3} i & 2.0 + 1.0 \\sqrt{3} i & -1.0 + 1.0 \\sqrt{3} i\\\\-4.0 + 5.0 \\sqrt{3} i & -1.0 - 1.0 \\sqrt{3} i & 2.0 - 1.0 \\sqrt{3} i\\end{matrix}\\right]$"
      ],
      "text/plain": [
       "⎡      29         -7.0 + 3.0⋅√3⋅ⅈ  -7.0 - 3.0⋅√3⋅ⅈ⎤\n",
       "⎢                                                 ⎥\n",
       "⎢-4.0 - 5.0⋅√3⋅ⅈ  2.0 + 1.0⋅√3⋅ⅈ   -1.0 + 1.0⋅√3⋅ⅈ⎥\n",
       "⎢                                                 ⎥\n",
       "⎣-4.0 + 5.0⋅√3⋅ⅈ  -1.0 - 1.0⋅√3⋅ⅈ  2.0 - 1.0⋅√3⋅ⅈ ⎦"
      ]
     },
     "execution_count": 20,
     "metadata": {},
     "output_type": "execute_result"
    }
   ],
   "source": [
    "new_cols = [] #физическая\n",
    "for i in range(len(a2.row(0))-1,-1,-1):\n",
    "    new_col = matrix_for_cols*sympy.Matrix(list(new_rows.col(i))[::-1])\n",
    "    new_cols.insert(0,sympy.Matrix(new_col).transpose())\n",
    "new_cols = sympy.Matrix(new_cols).transpose()\n",
    "sympy.simplify(new_cols)"
   ]
  },
  {
   "cell_type": "markdown",
   "metadata": {},
   "source": [
    "Прямое через обратное"
   ]
  },
  {
   "cell_type": "code",
   "execution_count": 21,
   "metadata": {},
   "outputs": [
    {
     "data": {
      "text/latex": [
       "$\\displaystyle \\left[\\begin{matrix}12 & -5.0 - 1.0 i & 2 & -5.0 + 1.0 i\\end{matrix}\\right]$"
      ],
      "text/plain": [
       "[12  -5.0 - 1.0⋅ⅈ  2  -5.0 + 1.0⋅ⅈ]"
      ]
     },
     "execution_count": 21,
     "metadata": {},
     "output_type": "execute_result"
    }
   ],
   "source": [
    "a4 = sympy.Matrix([12,-5+1j, 2,-5-1j])\n",
    "a4=a4.H\n",
    "a4"
   ]
  },
  {
   "cell_type": "code",
   "execution_count": 22,
   "metadata": {},
   "outputs": [
    {
     "data": {
      "text/latex": [
       "$\\displaystyle \\left[\\begin{matrix}1.0\\\\2.0\\\\6.0\\\\3.0\\end{matrix}\\right]$"
      ],
      "text/plain": [
       "⎡1.0⎤\n",
       "⎢   ⎥\n",
       "⎢2.0⎥\n",
       "⎢   ⎥\n",
       "⎢6.0⎥\n",
       "⎢   ⎥\n",
       "⎣3.0⎦"
      ]
     },
     "execution_count": 22,
     "metadata": {},
     "output_type": "execute_result"
    }
   ],
   "source": [
    "m_fourier = generate_matrix(4)\n",
    "ans=a4*m_fourier\n",
    "ans=ans.H/4\n",
    "sympy.simplify(ans)"
   ]
  },
  {
   "cell_type": "markdown",
   "metadata": {},
   "source": [
    "амплитуда"
   ]
  },
  {
   "cell_type": "code",
   "execution_count": 24,
   "metadata": {},
   "outputs": [
    {
     "data": {
      "image/png": "[encoded data removed]",
      "text/latex": [
       "$\\displaystyle 1.2747548783982$"
      ],
      "text/plain": [
       "1.27475487839820"
      ]
     },
     "execution_count": 24,
     "metadata": {},
     "output_type": "execute_result"
    }
   ],
   "source": [
    "N=4\n",
    "i=1\n",
    "a5=sympy.Matrix([1,2,6,3])\n",
    "m=generate_matrix(N)\n",
    "X=m*a5\n",
    "ans_Ai=abs(X[i])/N\n",
    "ans_Ai"
   ]
  },
  {
   "cell_type": "code",
   "execution_count": 25,
   "metadata": {},
   "outputs": [
    {
     "data": {
      "text/latex": [
       "$\\displaystyle \\left[\\begin{matrix}12 & -5.0 - 1.0 i & 2 & -5.0 + 1.0 i\\end{matrix}\\right]$"
      ],
      "text/plain": [
       "[12  -5.0 - 1.0⋅ⅈ  2  -5.0 + 1.0⋅ⅈ]"
      ]
     },
     "execution_count": 25,
     "metadata": {},
     "output_type": "execute_result"
    }
   ],
   "source": [
    "a4"
   ]
  },
  {
   "cell_type": "code",
   "execution_count": 26,
   "metadata": {},
   "outputs": [
    {
     "data": {
      "image/png": "[encoded data removed]",
      "text/latex": [
       "$\\displaystyle 4.0$"
      ],
      "text/plain": [
       "4.00000000000000"
      ]
     },
     "execution_count": 26,
     "metadata": {},
     "output_type": "execute_result"
    }
   ],
   "source": [
    "sum(a4)"
   ]
  },
  {
   "cell_type": "code",
   "execution_count": 4,
   "metadata": {},
   "outputs": [],
   "source": [
    "k = sympy.Matrix([3/2, (11+5j)/4, 0, (11-5j)/4])"
   ]
  },
  {
   "cell_type": "code",
   "execution_count": 5,
   "metadata": {},
   "outputs": [
    {
     "data": {
      "text/latex": [
       "$\\displaystyle \\left[\\begin{matrix}1.5\\\\2.75 + 1.25 i\\\\0\\\\2.75 - 1.25 i\\end{matrix}\\right]$"
      ],
      "text/plain": [
       "⎡     1.5     ⎤\n",
       "⎢             ⎥\n",
       "⎢2.75 + 1.25⋅ⅈ⎥\n",
       "⎢             ⎥\n",
       "⎢      0      ⎥\n",
       "⎢             ⎥\n",
       "⎣2.75 - 1.25⋅ⅈ⎦"
      ]
     },
     "execution_count": 5,
     "metadata": {},
     "output_type": "execute_result"
    }
   ],
   "source": [
    "k"
   ]
  },
  {
   "cell_type": "code",
   "execution_count": 9,
   "metadata": {},
   "outputs": [
    {
     "data": {
      "text/latex": [
       "$\\displaystyle \\left[\\begin{matrix}7.0\\\\4.0\\\\-4.0\\\\-1.0\\end{matrix}\\right]$"
      ],
      "text/plain": [
       "⎡7.0 ⎤\n",
       "⎢    ⎥\n",
       "⎢4.0 ⎥\n",
       "⎢    ⎥\n",
       "⎢-4.0⎥\n",
       "⎢    ⎥\n",
       "⎣-1.0⎦"
      ]
     },
     "execution_count": 9,
     "metadata": {},
     "output_type": "execute_result"
    }
   ],
   "source": [
    "sympy.simplify(generate_matrix_fourier(4)*k)"
   ]
  },
  {
   "cell_type": "code",
   "execution_count": null,
   "metadata": {},
   "outputs": [],
   "source": []
  }
 ],
 "metadata": {
  "kernelspec": {
   "display_name": "Python 3",
   "language": "python",
   "name": "python3"
  },
  "language_info": {
   "codemirror_mode": {
    "name": "ipython",
    "version": 3
   },
   "file_extension": ".py",
   "mimetype": "text/x-python",
   "name": "python",
   "nbconvert_exporter": "python",
   "pygments_lexer": "ipython3",
   "version": "3.7.3"
  }
 },
 "nbformat": 4,
 "nbformat_minor": 5
}
